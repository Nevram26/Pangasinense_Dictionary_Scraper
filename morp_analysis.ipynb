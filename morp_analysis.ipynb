{
 "cells": [
  {
   "cell_type": "markdown",
   "metadata": {},
   "source": [
    "# Morphological Analysis for Pangasinan Lexicon\n",
    "\n",
    "This notebook loads your JSON lexicon and applies simple rule-based morphological parsing.\n",
    "\n",
    "It currently supports:\n",
    "- Prefix detection (e.g., **ma-**)\n",
    "- Suffix detection (e.g., **-an**)\n",
    "- Reduplication (e.g., **ábakábak**)\n",
    "\n",
    "You can expand the rules as you study more morphology."
   ]
  },
  {
   "cell_type": "code",
   "execution_count": 1,
   "metadata": {},
   "outputs": [
    {
     "name": "stdout",
     "output_type": "stream",
     "text": [
      "Entries loaded: 2595\n"
     ]
    },
    {
     "data": {
      "text/plain": [
       "[{'word': '1a',\n",
       "  'meaning': 'interjection marking hesitation, agreement, disagreement, etc.',\n",
       "  'source': 'Dictionary A, Dictionary A Sorted',\n",
       "  'POS': 'INTERJECTION',\n",
       "  'morphology': None},\n",
       " {'word': '2a',\n",
       "  'meaning': 'linking particle, uniting adjectives or descriptive phrases with verbs and nouns, relative sentences to main sentence, etc. (also ya )',\n",
       "  'source': 'Dictionary A, Dictionary A Sorted',\n",
       "  'POS': 'PARTICLE',\n",
       "  'morphology': None}]"
      ]
     },
     "execution_count": 1,
     "metadata": {},
     "output_type": "execute_result"
    }
   ],
   "source": [
    "import json\n",
    "\n",
    "# Load your lexicon (update path as needed)\n",
    "with open(\"pangasinan_enriched.json\", \"r\", encoding=\"utf-8\") as f:\n",
    "    lexicon = json.load(f)\n",
    "\n",
    "print(\"Entries loaded:\", len(lexicon))\n",
    "lexicon[:2]  # peek at first entries"
   ]
  },
  {
   "cell_type": "code",
   "execution_count": null,
   "metadata": {},
   "outputs": [],
   "source": [
    "# Define morphological rules\n",
    "rules = [\n",
    "    {\"type\": \"prefix\", \"form\": \"ma-\", \"meaning\": \"causative\"},\n",
    "    {\"type\": \"suffix\", \"form\": \"-an\", \"meaning\": \"locative\"},\n",
    "    {\"type\": \"suffix\", \"form\": \"-en\", \"meaning\": \"patient focus\"},\n",
    "    {\"type\": \"reduplication\", \"form\": \"full\", \"meaning\": \"intensifier/repetition\"}\n",
    "]"
   ]
  },
  {
   "cell_type": "code",
   "execution_count": 3,
   "metadata": {},
   "outputs": [],
   "source": [
    "# Morphological analyzer\n",
    "def analyze(word, rules):\n",
    "    analysis = {\"root\": word, \"processes\": []}\n",
    "\n",
    "    # Prefixes\n",
    "    for r in rules:\n",
    "        if r[\"type\"] == \"prefix\" and word.startswith(r[\"form\"]):\n",
    "            analysis[\"root\"] = word[len(r[\"form\"]):]\n",
    "            analysis[\"processes\"].append(r)\n",
    "\n",
    "    # Suffixes\n",
    "    for r in rules:\n",
    "        if r[\"type\"] == \"suffix\" and word.endswith(r[\"form\"]):\n",
    "            analysis[\"root\"] = word[:-len(r[\"form\"])]\n",
    "            analysis[\"processes\"].append(r)\n",
    "\n",
    "    # Reduplication (simple: split word in half)\n",
    "    for r in rules:\n",
    "        if r[\"type\"] == \"reduplication\":\n",
    "            half = len(word)//2\n",
    "            if word[:half] == word[half:]:\n",
    "                analysis[\"root\"] = word[:half]\n",
    "                analysis[\"processes\"].append(r)\n",
    "    return analysis"
   ]
  },
  {
   "cell_type": "code",
   "execution_count": null,
   "metadata": {},
   "outputs": [
    {
     "name": "stdout",
     "output_type": "stream",
     "text": [
      "{'root': 'ábak', 'processes': [{'type': 'reduplication', 'form': 'full', 'meaning': 'intensifier/repetition'}]}\n",
      "{'root': 'maabak', 'processes': []}\n",
      "{'root': 'abakan', 'processes': []}\n"
     ]
    }
   ],
   "source": [
    "# Try some test words\n",
    "print(analyze(\"ábakábak\", rules))\n",
    "print(analyze(\"maabak\", rules))\n",
    "print(analyze(\"sett\", rules))"
   ]
  },
  {
   "cell_type": "code",
   "execution_count": 5,
   "metadata": {},
   "outputs": [
    {
     "name": "stdout",
     "output_type": "stream",
     "text": [
      "Saved enriched lexicon with morphology!\n"
     ]
    }
   ],
   "source": [
    "# Apply analysis to whole lexicon\n",
    "for entry in lexicon:\n",
    "    entry[\"morphology\"] = analyze(entry[\"word\"], rules)\n",
    "\n",
    "# Save enriched lexicon\n",
    "with open(\"pangasinan_with_morphology.json\", \"w\", encoding=\"utf-8\") as f:\n",
    "    json.dump(lexicon, f, ensure_ascii=False, indent=2)\n",
    "\n",
    "print(\"Saved enriched lexicon with morphology!\")"
   ]
  }
 ],
 "metadata": {
  "kernelspec": {
   "display_name": "3.12.3",
   "language": "python",
   "name": "python3"
  },
  "language_info": {
   "codemirror_mode": {
    "name": "ipython",
    "version": 3
   },
   "file_extension": ".py",
   "mimetype": "text/x-python",
   "name": "python",
   "nbconvert_exporter": "python",
   "pygments_lexer": "ipython3",
   "version": "3.12.3"
  }
 },
 "nbformat": 4,
 "nbformat_minor": 2
}
